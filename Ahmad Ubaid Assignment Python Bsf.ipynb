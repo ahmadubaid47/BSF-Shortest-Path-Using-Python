{
 "cells": [
  {
   "cell_type": "code",
   "execution_count": 1,
   "id": "906adf52",
   "metadata": {},
   "outputs": [],
   "source": [
    "graph={ \"s\":[\"A\",\"B\"],\n",
    "        \"A\":[\"C\",\"D\"],\n",
    "        \"B\":[\"E\",\"F\"],\n",
    "        \"C\":[\"G\",\"H\"],\n",
    "        \"D\":[\"M\",\"N\"],\n",
    "        \"E\":[\"O\",\"P\"],\n",
    "        \"F\":[\"W\",\"X\"],\n",
    "        \"G\":[],\n",
    "        \"H\":[\"I\",\"J\"],\n",
    "        \"M\":[],\n",
    "        \"N\":[],\n",
    "        \"O\":[],\n",
    "        \"P\":[\"Q\",\"R\"],\n",
    "        \"W\":[],\n",
    "        \"X\":[\"Y\",\"Z\"],\n",
    "        \"I\":[],\n",
    "        \"J\":[\"K\",\"L\"],\n",
    "        \"Q\":[],\n",
    "        \"R\":[\"S\",\"T\"],\n",
    "        \"Y\":[],\n",
    "        \"Z\":[\"*\",\"+\"],\n",
    "        \"K\":[],\n",
    "        \"L\":[],\n",
    "        \"S\":[\"U\",\"V\"],\n",
    "        \"T\":[],\n",
    "        \"*\":[],\n",
    "        \"+\":[],\n",
    "        \"U\":[],\n",
    "        \"V\":[]   \n",
    "      }\n"
   ]
  },
  {
   "cell_type": "code",
   "execution_count": 2,
   "id": "4cccef11",
   "metadata": {},
   "outputs": [],
   "source": [
    "Start=[\"s\"]\n",
    "Goal=\"+\"\n",
    "Visited=[]\n",
    "Queue=[\"s\"]\n",
    "SL=[]\n",
    "Inner_List=[]"
   ]
  },
  {
   "cell_type": "code",
   "execution_count": 3,
   "id": "82bdc65e",
   "metadata": {},
   "outputs": [
    {
     "name": "stdout",
     "output_type": "stream",
     "text": [
      "Shortest Path ['s', 'B', 'F', 'X', 'Z', '+']\n"
     ]
    }
   ],
   "source": [
    "while Queue:\n",
    "    \n",
    "    SL=Queue.pop(0)\n",
    "    LastElement=SL[-1]\n",
    "    if LastElement==Goal:\n",
    "        print(\"Shortest Path\",SL)\n",
    "        break\n",
    "    \n",
    "    if LastElement not in Visited:\n",
    "         \n",
    "        for n in graph[LastElement]:\n",
    "            Inner_List=list(SL)\n",
    "            Inner_List.append(n)\n",
    "            Queue.append(Inner_List)\n",
    "        Visited.append(LastElement)\n",
    "            \n",
    "            \n",
    "            \n",
    "    "
   ]
  },
  {
   "cell_type": "code",
   "execution_count": null,
   "id": "093f019c",
   "metadata": {},
   "outputs": [],
   "source": []
  }
 ],
 "metadata": {
  "kernelspec": {
   "display_name": "Python 3",
   "language": "python",
   "name": "python3"
  },
  "language_info": {
   "codemirror_mode": {
    "name": "ipython",
    "version": 3
   },
   "file_extension": ".py",
   "mimetype": "text/x-python",
   "name": "python",
   "nbconvert_exporter": "python",
   "pygments_lexer": "ipython3",
   "version": "3.8.8"
  }
 },
 "nbformat": 4,
 "nbformat_minor": 5
}
